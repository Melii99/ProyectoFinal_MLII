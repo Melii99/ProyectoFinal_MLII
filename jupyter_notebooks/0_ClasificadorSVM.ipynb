{
 "cells": [
  {
   "cell_type": "code",
   "execution_count": 1,
   "id": "7c963376",
   "metadata": {},
   "outputs": [],
   "source": [
    "# Importar librerías\n",
    "\n",
    "# DataFrames\n",
    "import pandas as pd\n",
    "# Plots\n",
    "import matplotlib.pyplot as plt\n",
    "# Seeds\n",
    "import numpy as np\n",
    "# Support Vector Classifier (SVC)\n",
    "from sklearn.svm import SVC\n",
    "# Importar objeto para escalmiento de datos\n",
    "from sklearn.preprocessing import StandardScaler\n",
    "# Búsqueda aleatoria de hyperparámetros k-fold cross-validation\n",
    "from sklearn.model_selection import RandomizedSearchCV\n",
    "# Obtener valores de una distribución uniforme\n",
    "from scipy.stats import uniform, expon\n",
    "# Métricas de evaluación\n",
    "from sklearn.metrics import f1_score, precision_score, recall_score, roc_auc_score, roc_curve\n",
    "# Matriz de confusión\n",
    "from sklearn.metrics import confusion_matrix\n",
    "# Reporte de clasificación \n",
    "from sklearn.metrics import classification_report\n",
    "# Plot Precision-Recall curve\n",
    "from sklearn.metrics import PrecisionRecallDisplay\n",
    "# submuestreo a los datos de entrenamiento\n",
    "from imblearn.under_sampling import RandomUnderSampler"
   ]
  },
  {
   "cell_type": "markdown",
   "id": "55309f79",
   "metadata": {},
   "source": [
    "# Exploración de datos"
   ]
  },
  {
   "cell_type": "code",
   "execution_count": 2,
   "id": "b31ffcaf",
   "metadata": {},
   "outputs": [
    {
     "data": {
      "text/html": [
       "<div>\n",
       "<style scoped>\n",
       "    .dataframe tbody tr th:only-of-type {\n",
       "        vertical-align: middle;\n",
       "    }\n",
       "\n",
       "    .dataframe tbody tr th {\n",
       "        vertical-align: top;\n",
       "    }\n",
       "\n",
       "    .dataframe thead th {\n",
       "        text-align: right;\n",
       "    }\n",
       "</style>\n",
       "<table border=\"1\" class=\"dataframe\">\n",
       "  <thead>\n",
       "    <tr style=\"text-align: right;\">\n",
       "      <th></th>\n",
       "      <th>Unnamed: 0</th>\n",
       "      <th>1-hexadecanol</th>\n",
       "      <th>1-monostearin</th>\n",
       "      <th>1,2,4-benzenetriol</th>\n",
       "      <th>1,5-anhydroglucitol</th>\n",
       "      <th>2-aminoadipic,acid</th>\n",
       "      <th>2-hydroxybutanoic,acid</th>\n",
       "      <th>2-hydroxyglutaric,acid</th>\n",
       "      <th>2-hydroxyvaleric,acid</th>\n",
       "      <th>2-ketoadipic,acid</th>\n",
       "      <th>...</th>\n",
       "      <th>trehalose</th>\n",
       "      <th>tryptophan</th>\n",
       "      <th>tyrosine</th>\n",
       "      <th>uracil</th>\n",
       "      <th>urea</th>\n",
       "      <th>uric,acid</th>\n",
       "      <th>uridine</th>\n",
       "      <th>uridine-5'-monophosphate</th>\n",
       "      <th>valine</th>\n",
       "      <th>xanthine</th>\n",
       "    </tr>\n",
       "  </thead>\n",
       "  <tbody>\n",
       "    <tr>\n",
       "      <th>0</th>\n",
       "      <td>case_95</td>\n",
       "      <td>9.729131</td>\n",
       "      <td>9.372530</td>\n",
       "      <td>12.635429</td>\n",
       "      <td>14.711658</td>\n",
       "      <td>11.162607</td>\n",
       "      <td>14.145654</td>\n",
       "      <td>12.334462</td>\n",
       "      <td>14.358346</td>\n",
       "      <td>12.103635</td>\n",
       "      <td>...</td>\n",
       "      <td>12.442494</td>\n",
       "      <td>14.244449</td>\n",
       "      <td>16.625366</td>\n",
       "      <td>15.192479</td>\n",
       "      <td>18.991252</td>\n",
       "      <td>13.594835</td>\n",
       "      <td>10.820097</td>\n",
       "      <td>7.306034</td>\n",
       "      <td>17.595868</td>\n",
       "      <td>11.431424</td>\n",
       "    </tr>\n",
       "    <tr>\n",
       "      <th>1</th>\n",
       "      <td>case_88</td>\n",
       "      <td>10.961073</td>\n",
       "      <td>9.353313</td>\n",
       "      <td>12.692373</td>\n",
       "      <td>14.371407</td>\n",
       "      <td>11.128662</td>\n",
       "      <td>14.228230</td>\n",
       "      <td>12.177452</td>\n",
       "      <td>14.923601</td>\n",
       "      <td>12.378531</td>\n",
       "      <td>...</td>\n",
       "      <td>11.079405</td>\n",
       "      <td>14.744379</td>\n",
       "      <td>17.078661</td>\n",
       "      <td>14.517391</td>\n",
       "      <td>17.769687</td>\n",
       "      <td>12.833925</td>\n",
       "      <td>10.172577</td>\n",
       "      <td>8.658402</td>\n",
       "      <td>17.265167</td>\n",
       "      <td>8.184619</td>\n",
       "    </tr>\n",
       "    <tr>\n",
       "      <th>2</th>\n",
       "      <td>case_24</td>\n",
       "      <td>10.995057</td>\n",
       "      <td>9.384110</td>\n",
       "      <td>12.954097</td>\n",
       "      <td>13.323175</td>\n",
       "      <td>8.162313</td>\n",
       "      <td>14.392132</td>\n",
       "      <td>17.532062</td>\n",
       "      <td>16.000497</td>\n",
       "      <td>12.558596</td>\n",
       "      <td>...</td>\n",
       "      <td>9.846626</td>\n",
       "      <td>13.916428</td>\n",
       "      <td>15.891040</td>\n",
       "      <td>15.440454</td>\n",
       "      <td>18.206261</td>\n",
       "      <td>13.260406</td>\n",
       "      <td>9.085237</td>\n",
       "      <td>6.846626</td>\n",
       "      <td>17.365810</td>\n",
       "      <td>8.544668</td>\n",
       "    </tr>\n",
       "    <tr>\n",
       "      <th>3</th>\n",
       "      <td>case_25</td>\n",
       "      <td>11.801188</td>\n",
       "      <td>10.131278</td>\n",
       "      <td>13.615486</td>\n",
       "      <td>13.612898</td>\n",
       "      <td>7.864104</td>\n",
       "      <td>14.637300</td>\n",
       "      <td>14.116084</td>\n",
       "      <td>12.750284</td>\n",
       "      <td>11.812189</td>\n",
       "      <td>...</td>\n",
       "      <td>11.081869</td>\n",
       "      <td>11.704480</td>\n",
       "      <td>15.401228</td>\n",
       "      <td>15.387395</td>\n",
       "      <td>17.999114</td>\n",
       "      <td>12.303039</td>\n",
       "      <td>10.472097</td>\n",
       "      <td>8.118823</td>\n",
       "      <td>16.691485</td>\n",
       "      <td>10.108361</td>\n",
       "    </tr>\n",
       "    <tr>\n",
       "      <th>4</th>\n",
       "      <td>case_9</td>\n",
       "      <td>12.719130</td>\n",
       "      <td>11.215183</td>\n",
       "      <td>14.796994</td>\n",
       "      <td>13.753114</td>\n",
       "      <td>8.234385</td>\n",
       "      <td>14.321848</td>\n",
       "      <td>10.901360</td>\n",
       "      <td>11.932689</td>\n",
       "      <td>13.228521</td>\n",
       "      <td>...</td>\n",
       "      <td>11.214305</td>\n",
       "      <td>13.858266</td>\n",
       "      <td>17.036357</td>\n",
       "      <td>17.610594</td>\n",
       "      <td>18.571197</td>\n",
       "      <td>12.947573</td>\n",
       "      <td>10.814716</td>\n",
       "      <td>7.404310</td>\n",
       "      <td>17.651466</td>\n",
       "      <td>11.811814</td>\n",
       "    </tr>\n",
       "    <tr>\n",
       "      <th>5</th>\n",
       "      <td>case_63</td>\n",
       "      <td>10.169402</td>\n",
       "      <td>9.806564</td>\n",
       "      <td>11.112969</td>\n",
       "      <td>14.177820</td>\n",
       "      <td>10.106125</td>\n",
       "      <td>14.434799</td>\n",
       "      <td>13.731357</td>\n",
       "      <td>15.304836</td>\n",
       "      <td>12.566981</td>\n",
       "      <td>...</td>\n",
       "      <td>9.121721</td>\n",
       "      <td>14.398996</td>\n",
       "      <td>15.936088</td>\n",
       "      <td>15.316108</td>\n",
       "      <td>18.260090</td>\n",
       "      <td>12.803697</td>\n",
       "      <td>10.765578</td>\n",
       "      <td>7.548347</td>\n",
       "      <td>17.629015</td>\n",
       "      <td>9.975953</td>\n",
       "    </tr>\n",
       "    <tr>\n",
       "      <th>6</th>\n",
       "      <td>case_206</td>\n",
       "      <td>10.283016</td>\n",
       "      <td>9.865117</td>\n",
       "      <td>11.967934</td>\n",
       "      <td>14.410436</td>\n",
       "      <td>9.410975</td>\n",
       "      <td>13.269660</td>\n",
       "      <td>14.320480</td>\n",
       "      <td>11.879937</td>\n",
       "      <td>12.060910</td>\n",
       "      <td>...</td>\n",
       "      <td>12.010257</td>\n",
       "      <td>14.356078</td>\n",
       "      <td>16.358141</td>\n",
       "      <td>15.625300</td>\n",
       "      <td>18.296131</td>\n",
       "      <td>11.615541</td>\n",
       "      <td>11.714577</td>\n",
       "      <td>8.125475</td>\n",
       "      <td>17.159730</td>\n",
       "      <td>10.190021</td>\n",
       "    </tr>\n",
       "    <tr>\n",
       "      <th>7</th>\n",
       "      <td>case_181</td>\n",
       "      <td>9.953417</td>\n",
       "      <td>9.818129</td>\n",
       "      <td>12.133452</td>\n",
       "      <td>13.314337</td>\n",
       "      <td>9.641563</td>\n",
       "      <td>13.550503</td>\n",
       "      <td>15.282728</td>\n",
       "      <td>15.363759</td>\n",
       "      <td>12.861872</td>\n",
       "      <td>...</td>\n",
       "      <td>9.985664</td>\n",
       "      <td>14.459748</td>\n",
       "      <td>17.046546</td>\n",
       "      <td>15.661088</td>\n",
       "      <td>18.538379</td>\n",
       "      <td>12.423482</td>\n",
       "      <td>10.041953</td>\n",
       "      <td>8.090208</td>\n",
       "      <td>17.612571</td>\n",
       "      <td>10.590474</td>\n",
       "    </tr>\n",
       "    <tr>\n",
       "      <th>8</th>\n",
       "      <td>case_232</td>\n",
       "      <td>11.075417</td>\n",
       "      <td>10.215213</td>\n",
       "      <td>8.030789</td>\n",
       "      <td>14.464034</td>\n",
       "      <td>10.414632</td>\n",
       "      <td>15.278919</td>\n",
       "      <td>12.361562</td>\n",
       "      <td>12.847208</td>\n",
       "      <td>12.019170</td>\n",
       "      <td>...</td>\n",
       "      <td>9.500703</td>\n",
       "      <td>15.586649</td>\n",
       "      <td>16.244251</td>\n",
       "      <td>14.634435</td>\n",
       "      <td>19.239858</td>\n",
       "      <td>13.906353</td>\n",
       "      <td>11.537820</td>\n",
       "      <td>8.341875</td>\n",
       "      <td>17.729150</td>\n",
       "      <td>9.563379</td>\n",
       "    </tr>\n",
       "    <tr>\n",
       "      <th>9</th>\n",
       "      <td>case_156</td>\n",
       "      <td>10.506592</td>\n",
       "      <td>11.150282</td>\n",
       "      <td>13.737453</td>\n",
       "      <td>13.373887</td>\n",
       "      <td>10.833649</td>\n",
       "      <td>13.778953</td>\n",
       "      <td>12.393064</td>\n",
       "      <td>12.677529</td>\n",
       "      <td>12.722459</td>\n",
       "      <td>...</td>\n",
       "      <td>8.709558</td>\n",
       "      <td>14.350705</td>\n",
       "      <td>16.409056</td>\n",
       "      <td>13.910503</td>\n",
       "      <td>18.514137</td>\n",
       "      <td>11.872105</td>\n",
       "      <td>9.890639</td>\n",
       "      <td>7.434378</td>\n",
       "      <td>18.029672</td>\n",
       "      <td>8.817707</td>\n",
       "    </tr>\n",
       "  </tbody>\n",
       "</table>\n",
       "<p>10 rows × 163 columns</p>\n",
       "</div>"
      ],
      "text/plain": [
       "  Unnamed: 0  1-hexadecanol  1-monostearin  1,2,4-benzenetriol  \\\n",
       "0    case_95       9.729131       9.372530           12.635429   \n",
       "1    case_88      10.961073       9.353313           12.692373   \n",
       "2    case_24      10.995057       9.384110           12.954097   \n",
       "3    case_25      11.801188      10.131278           13.615486   \n",
       "4     case_9      12.719130      11.215183           14.796994   \n",
       "5    case_63      10.169402       9.806564           11.112969   \n",
       "6   case_206      10.283016       9.865117           11.967934   \n",
       "7   case_181       9.953417       9.818129           12.133452   \n",
       "8   case_232      11.075417      10.215213            8.030789   \n",
       "9   case_156      10.506592      11.150282           13.737453   \n",
       "\n",
       "   1,5-anhydroglucitol  2-aminoadipic,acid  2-hydroxybutanoic,acid  \\\n",
       "0            14.711658           11.162607               14.145654   \n",
       "1            14.371407           11.128662               14.228230   \n",
       "2            13.323175            8.162313               14.392132   \n",
       "3            13.612898            7.864104               14.637300   \n",
       "4            13.753114            8.234385               14.321848   \n",
       "5            14.177820           10.106125               14.434799   \n",
       "6            14.410436            9.410975               13.269660   \n",
       "7            13.314337            9.641563               13.550503   \n",
       "8            14.464034           10.414632               15.278919   \n",
       "9            13.373887           10.833649               13.778953   \n",
       "\n",
       "   2-hydroxyglutaric,acid  2-hydroxyvaleric,acid  2-ketoadipic,acid  ...  \\\n",
       "0               12.334462              14.358346          12.103635  ...   \n",
       "1               12.177452              14.923601          12.378531  ...   \n",
       "2               17.532062              16.000497          12.558596  ...   \n",
       "3               14.116084              12.750284          11.812189  ...   \n",
       "4               10.901360              11.932689          13.228521  ...   \n",
       "5               13.731357              15.304836          12.566981  ...   \n",
       "6               14.320480              11.879937          12.060910  ...   \n",
       "7               15.282728              15.363759          12.861872  ...   \n",
       "8               12.361562              12.847208          12.019170  ...   \n",
       "9               12.393064              12.677529          12.722459  ...   \n",
       "\n",
       "   trehalose  tryptophan   tyrosine     uracil       urea  uric,acid  \\\n",
       "0  12.442494   14.244449  16.625366  15.192479  18.991252  13.594835   \n",
       "1  11.079405   14.744379  17.078661  14.517391  17.769687  12.833925   \n",
       "2   9.846626   13.916428  15.891040  15.440454  18.206261  13.260406   \n",
       "3  11.081869   11.704480  15.401228  15.387395  17.999114  12.303039   \n",
       "4  11.214305   13.858266  17.036357  17.610594  18.571197  12.947573   \n",
       "5   9.121721   14.398996  15.936088  15.316108  18.260090  12.803697   \n",
       "6  12.010257   14.356078  16.358141  15.625300  18.296131  11.615541   \n",
       "7   9.985664   14.459748  17.046546  15.661088  18.538379  12.423482   \n",
       "8   9.500703   15.586649  16.244251  14.634435  19.239858  13.906353   \n",
       "9   8.709558   14.350705  16.409056  13.910503  18.514137  11.872105   \n",
       "\n",
       "     uridine  uridine-5'-monophosphate     valine   xanthine  \n",
       "0  10.820097                  7.306034  17.595868  11.431424  \n",
       "1  10.172577                  8.658402  17.265167   8.184619  \n",
       "2   9.085237                  6.846626  17.365810   8.544668  \n",
       "3  10.472097                  8.118823  16.691485  10.108361  \n",
       "4  10.814716                  7.404310  17.651466  11.811814  \n",
       "5  10.765578                  7.548347  17.629015   9.975953  \n",
       "6  11.714577                  8.125475  17.159730  10.190021  \n",
       "7  10.041953                  8.090208  17.612571  10.590474  \n",
       "8  11.537820                  8.341875  17.729150   9.563379  \n",
       "9   9.890639                  7.434378  18.029672   8.817707  \n",
       "\n",
       "[10 rows x 163 columns]"
      ]
     },
     "execution_count": 2,
     "metadata": {},
     "output_type": "execute_result"
    }
   ],
   "source": [
    "# Leer datos de entrenamiento en un dataframe \n",
    "train_data = pd.read_csv(\"C:\\\\Users\\\\user\\\\Dropbox\\\\MachineLearning_II\\\\FinalProjectData\\\\EstrogenReceptorStatus_Train.csv\")\n",
    "\n",
    "train_data.head(10)"
   ]
  },
  {
   "cell_type": "code",
   "execution_count": 3,
   "id": "2ff6156f",
   "metadata": {},
   "outputs": [
    {
     "data": {
      "text/plain": [
       "(216, 163)"
      ]
     },
     "execution_count": 3,
     "metadata": {},
     "output_type": "execute_result"
    }
   ],
   "source": [
    "# Verificar dimensionalidad de datos de entrenamiento\n",
    "train_data.shape"
   ]
  },
  {
   "cell_type": "code",
   "execution_count": 4,
   "id": "dd0765b6",
   "metadata": {},
   "outputs": [
    {
     "data": {
      "text/html": [
       "<div>\n",
       "<style scoped>\n",
       "    .dataframe tbody tr th:only-of-type {\n",
       "        vertical-align: middle;\n",
       "    }\n",
       "\n",
       "    .dataframe tbody tr th {\n",
       "        vertical-align: top;\n",
       "    }\n",
       "\n",
       "    .dataframe thead th {\n",
       "        text-align: right;\n",
       "    }\n",
       "</style>\n",
       "<table border=\"1\" class=\"dataframe\">\n",
       "  <thead>\n",
       "    <tr style=\"text-align: right;\">\n",
       "      <th></th>\n",
       "      <th>Unnamed: 0</th>\n",
       "      <th>1-hexadecanol</th>\n",
       "      <th>1-monostearin</th>\n",
       "      <th>1,2,4-benzenetriol</th>\n",
       "      <th>1,5-anhydroglucitol</th>\n",
       "      <th>2-aminoadipic,acid</th>\n",
       "      <th>2-hydroxybutanoic,acid</th>\n",
       "      <th>2-hydroxyglutaric,acid</th>\n",
       "      <th>2-hydroxyvaleric,acid</th>\n",
       "      <th>2-ketoadipic,acid</th>\n",
       "      <th>...</th>\n",
       "      <th>trehalose</th>\n",
       "      <th>tryptophan</th>\n",
       "      <th>tyrosine</th>\n",
       "      <th>uracil</th>\n",
       "      <th>urea</th>\n",
       "      <th>uric,acid</th>\n",
       "      <th>uridine</th>\n",
       "      <th>uridine-5'-monophosphate</th>\n",
       "      <th>valine</th>\n",
       "      <th>xanthine</th>\n",
       "    </tr>\n",
       "  </thead>\n",
       "  <tbody>\n",
       "    <tr>\n",
       "      <th>0</th>\n",
       "      <td>case_234</td>\n",
       "      <td>11.115704</td>\n",
       "      <td>10.066011</td>\n",
       "      <td>8.315212</td>\n",
       "      <td>13.787765</td>\n",
       "      <td>9.567422</td>\n",
       "      <td>13.792399</td>\n",
       "      <td>12.221783</td>\n",
       "      <td>12.723644</td>\n",
       "      <td>12.616868</td>\n",
       "      <td>...</td>\n",
       "      <td>11.236411</td>\n",
       "      <td>13.989798</td>\n",
       "      <td>16.090678</td>\n",
       "      <td>14.345302</td>\n",
       "      <td>18.511690</td>\n",
       "      <td>11.356553</td>\n",
       "      <td>11.458261</td>\n",
       "      <td>9.241464</td>\n",
       "      <td>17.066334</td>\n",
       "      <td>9.263987</td>\n",
       "    </tr>\n",
       "    <tr>\n",
       "      <th>1</th>\n",
       "      <td>case_168</td>\n",
       "      <td>10.953540</td>\n",
       "      <td>9.455260</td>\n",
       "      <td>10.760813</td>\n",
       "      <td>14.134820</td>\n",
       "      <td>9.742248</td>\n",
       "      <td>14.143309</td>\n",
       "      <td>12.677246</td>\n",
       "      <td>14.918683</td>\n",
       "      <td>12.992772</td>\n",
       "      <td>...</td>\n",
       "      <td>9.364537</td>\n",
       "      <td>14.230271</td>\n",
       "      <td>16.799025</td>\n",
       "      <td>16.225594</td>\n",
       "      <td>17.167450</td>\n",
       "      <td>13.052922</td>\n",
       "      <td>10.988278</td>\n",
       "      <td>7.981510</td>\n",
       "      <td>17.559720</td>\n",
       "      <td>8.708492</td>\n",
       "    </tr>\n",
       "    <tr>\n",
       "      <th>2</th>\n",
       "      <td>case_180</td>\n",
       "      <td>11.082995</td>\n",
       "      <td>9.501526</td>\n",
       "      <td>11.795980</td>\n",
       "      <td>14.150119</td>\n",
       "      <td>9.420807</td>\n",
       "      <td>14.074738</td>\n",
       "      <td>12.831977</td>\n",
       "      <td>15.620580</td>\n",
       "      <td>12.511738</td>\n",
       "      <td>...</td>\n",
       "      <td>9.879903</td>\n",
       "      <td>14.344997</td>\n",
       "      <td>16.523343</td>\n",
       "      <td>16.457184</td>\n",
       "      <td>18.859713</td>\n",
       "      <td>13.664845</td>\n",
       "      <td>9.260993</td>\n",
       "      <td>7.076569</td>\n",
       "      <td>12.535361</td>\n",
       "      <td>9.607444</td>\n",
       "    </tr>\n",
       "    <tr>\n",
       "      <th>3</th>\n",
       "      <td>case_2</td>\n",
       "      <td>11.658437</td>\n",
       "      <td>10.598369</td>\n",
       "      <td>11.993399</td>\n",
       "      <td>12.298942</td>\n",
       "      <td>10.547373</td>\n",
       "      <td>14.436735</td>\n",
       "      <td>13.568694</td>\n",
       "      <td>16.712891</td>\n",
       "      <td>13.405477</td>\n",
       "      <td>...</td>\n",
       "      <td>11.458791</td>\n",
       "      <td>13.027484</td>\n",
       "      <td>15.605371</td>\n",
       "      <td>14.627023</td>\n",
       "      <td>18.212003</td>\n",
       "      <td>12.266689</td>\n",
       "      <td>9.380577</td>\n",
       "      <td>7.969552</td>\n",
       "      <td>16.409022</td>\n",
       "      <td>8.477699</td>\n",
       "    </tr>\n",
       "    <tr>\n",
       "      <th>4</th>\n",
       "      <td>case_44</td>\n",
       "      <td>10.690867</td>\n",
       "      <td>9.868733</td>\n",
       "      <td>12.850994</td>\n",
       "      <td>13.205761</td>\n",
       "      <td>10.415339</td>\n",
       "      <td>13.977482</td>\n",
       "      <td>12.408161</td>\n",
       "      <td>15.354677</td>\n",
       "      <td>12.096834</td>\n",
       "      <td>...</td>\n",
       "      <td>10.260879</td>\n",
       "      <td>13.072522</td>\n",
       "      <td>16.339286</td>\n",
       "      <td>15.566619</td>\n",
       "      <td>18.110454</td>\n",
       "      <td>11.890972</td>\n",
       "      <td>10.559301</td>\n",
       "      <td>6.574037</td>\n",
       "      <td>17.057968</td>\n",
       "      <td>10.040914</td>\n",
       "    </tr>\n",
       "    <tr>\n",
       "      <th>5</th>\n",
       "      <td>case_247</td>\n",
       "      <td>10.037393</td>\n",
       "      <td>9.621967</td>\n",
       "      <td>9.040882</td>\n",
       "      <td>14.252844</td>\n",
       "      <td>10.342691</td>\n",
       "      <td>12.857829</td>\n",
       "      <td>12.266009</td>\n",
       "      <td>12.492053</td>\n",
       "      <td>10.932357</td>\n",
       "      <td>...</td>\n",
       "      <td>11.288931</td>\n",
       "      <td>14.462709</td>\n",
       "      <td>17.340937</td>\n",
       "      <td>15.699875</td>\n",
       "      <td>18.117284</td>\n",
       "      <td>13.374033</td>\n",
       "      <td>12.697966</td>\n",
       "      <td>9.895574</td>\n",
       "      <td>17.571013</td>\n",
       "      <td>8.576213</td>\n",
       "    </tr>\n",
       "    <tr>\n",
       "      <th>6</th>\n",
       "      <td>case_90</td>\n",
       "      <td>11.959493</td>\n",
       "      <td>9.381288</td>\n",
       "      <td>12.436672</td>\n",
       "      <td>14.030796</td>\n",
       "      <td>10.280969</td>\n",
       "      <td>14.240779</td>\n",
       "      <td>12.039900</td>\n",
       "      <td>15.786151</td>\n",
       "      <td>12.131423</td>\n",
       "      <td>...</td>\n",
       "      <td>10.414608</td>\n",
       "      <td>14.050206</td>\n",
       "      <td>16.804738</td>\n",
       "      <td>15.606146</td>\n",
       "      <td>19.029106</td>\n",
       "      <td>12.662362</td>\n",
       "      <td>10.845614</td>\n",
       "      <td>8.135676</td>\n",
       "      <td>17.148629</td>\n",
       "      <td>8.591106</td>\n",
       "    </tr>\n",
       "    <tr>\n",
       "      <th>7</th>\n",
       "      <td>case_109</td>\n",
       "      <td>11.378948</td>\n",
       "      <td>9.700457</td>\n",
       "      <td>11.824416</td>\n",
       "      <td>14.399220</td>\n",
       "      <td>9.898955</td>\n",
       "      <td>14.664833</td>\n",
       "      <td>12.675528</td>\n",
       "      <td>15.968853</td>\n",
       "      <td>13.096361</td>\n",
       "      <td>...</td>\n",
       "      <td>12.084051</td>\n",
       "      <td>14.007649</td>\n",
       "      <td>16.795710</td>\n",
       "      <td>15.284756</td>\n",
       "      <td>19.418008</td>\n",
       "      <td>13.669762</td>\n",
       "      <td>10.914928</td>\n",
       "      <td>6.904784</td>\n",
       "      <td>17.528577</td>\n",
       "      <td>9.476108</td>\n",
       "    </tr>\n",
       "    <tr>\n",
       "      <th>8</th>\n",
       "      <td>case_117</td>\n",
       "      <td>10.452305</td>\n",
       "      <td>9.590550</td>\n",
       "      <td>12.208460</td>\n",
       "      <td>13.606843</td>\n",
       "      <td>9.074283</td>\n",
       "      <td>14.225014</td>\n",
       "      <td>11.970257</td>\n",
       "      <td>13.024715</td>\n",
       "      <td>12.664180</td>\n",
       "      <td>...</td>\n",
       "      <td>10.291217</td>\n",
       "      <td>13.574257</td>\n",
       "      <td>16.448607</td>\n",
       "      <td>13.864513</td>\n",
       "      <td>17.874812</td>\n",
       "      <td>10.743589</td>\n",
       "      <td>9.716697</td>\n",
       "      <td>6.948174</td>\n",
       "      <td>16.909698</td>\n",
       "      <td>7.424323</td>\n",
       "    </tr>\n",
       "    <tr>\n",
       "      <th>9</th>\n",
       "      <td>case_184</td>\n",
       "      <td>11.313255</td>\n",
       "      <td>9.862555</td>\n",
       "      <td>12.190749</td>\n",
       "      <td>13.643772</td>\n",
       "      <td>9.590387</td>\n",
       "      <td>12.806740</td>\n",
       "      <td>11.096117</td>\n",
       "      <td>15.208343</td>\n",
       "      <td>13.314403</td>\n",
       "      <td>...</td>\n",
       "      <td>10.207223</td>\n",
       "      <td>14.371298</td>\n",
       "      <td>16.549680</td>\n",
       "      <td>15.606763</td>\n",
       "      <td>17.797103</td>\n",
       "      <td>11.599835</td>\n",
       "      <td>10.365148</td>\n",
       "      <td>7.799994</td>\n",
       "      <td>17.520230</td>\n",
       "      <td>8.592281</td>\n",
       "    </tr>\n",
       "  </tbody>\n",
       "</table>\n",
       "<p>10 rows × 163 columns</p>\n",
       "</div>"
      ],
      "text/plain": [
       "  Unnamed: 0  1-hexadecanol  1-monostearin  1,2,4-benzenetriol  \\\n",
       "0   case_234      11.115704      10.066011            8.315212   \n",
       "1   case_168      10.953540       9.455260           10.760813   \n",
       "2   case_180      11.082995       9.501526           11.795980   \n",
       "3     case_2      11.658437      10.598369           11.993399   \n",
       "4    case_44      10.690867       9.868733           12.850994   \n",
       "5   case_247      10.037393       9.621967            9.040882   \n",
       "6    case_90      11.959493       9.381288           12.436672   \n",
       "7   case_109      11.378948       9.700457           11.824416   \n",
       "8   case_117      10.452305       9.590550           12.208460   \n",
       "9   case_184      11.313255       9.862555           12.190749   \n",
       "\n",
       "   1,5-anhydroglucitol  2-aminoadipic,acid  2-hydroxybutanoic,acid  \\\n",
       "0            13.787765            9.567422               13.792399   \n",
       "1            14.134820            9.742248               14.143309   \n",
       "2            14.150119            9.420807               14.074738   \n",
       "3            12.298942           10.547373               14.436735   \n",
       "4            13.205761           10.415339               13.977482   \n",
       "5            14.252844           10.342691               12.857829   \n",
       "6            14.030796           10.280969               14.240779   \n",
       "7            14.399220            9.898955               14.664833   \n",
       "8            13.606843            9.074283               14.225014   \n",
       "9            13.643772            9.590387               12.806740   \n",
       "\n",
       "   2-hydroxyglutaric,acid  2-hydroxyvaleric,acid  2-ketoadipic,acid  ...  \\\n",
       "0               12.221783              12.723644          12.616868  ...   \n",
       "1               12.677246              14.918683          12.992772  ...   \n",
       "2               12.831977              15.620580          12.511738  ...   \n",
       "3               13.568694              16.712891          13.405477  ...   \n",
       "4               12.408161              15.354677          12.096834  ...   \n",
       "5               12.266009              12.492053          10.932357  ...   \n",
       "6               12.039900              15.786151          12.131423  ...   \n",
       "7               12.675528              15.968853          13.096361  ...   \n",
       "8               11.970257              13.024715          12.664180  ...   \n",
       "9               11.096117              15.208343          13.314403  ...   \n",
       "\n",
       "   trehalose  tryptophan   tyrosine     uracil       urea  uric,acid  \\\n",
       "0  11.236411   13.989798  16.090678  14.345302  18.511690  11.356553   \n",
       "1   9.364537   14.230271  16.799025  16.225594  17.167450  13.052922   \n",
       "2   9.879903   14.344997  16.523343  16.457184  18.859713  13.664845   \n",
       "3  11.458791   13.027484  15.605371  14.627023  18.212003  12.266689   \n",
       "4  10.260879   13.072522  16.339286  15.566619  18.110454  11.890972   \n",
       "5  11.288931   14.462709  17.340937  15.699875  18.117284  13.374033   \n",
       "6  10.414608   14.050206  16.804738  15.606146  19.029106  12.662362   \n",
       "7  12.084051   14.007649  16.795710  15.284756  19.418008  13.669762   \n",
       "8  10.291217   13.574257  16.448607  13.864513  17.874812  10.743589   \n",
       "9  10.207223   14.371298  16.549680  15.606763  17.797103  11.599835   \n",
       "\n",
       "     uridine  uridine-5'-monophosphate     valine   xanthine  \n",
       "0  11.458261                  9.241464  17.066334   9.263987  \n",
       "1  10.988278                  7.981510  17.559720   8.708492  \n",
       "2   9.260993                  7.076569  12.535361   9.607444  \n",
       "3   9.380577                  7.969552  16.409022   8.477699  \n",
       "4  10.559301                  6.574037  17.057968  10.040914  \n",
       "5  12.697966                  9.895574  17.571013   8.576213  \n",
       "6  10.845614                  8.135676  17.148629   8.591106  \n",
       "7  10.914928                  6.904784  17.528577   9.476108  \n",
       "8   9.716697                  6.948174  16.909698   7.424323  \n",
       "9  10.365148                  7.799994  17.520230   8.592281  \n",
       "\n",
       "[10 rows x 163 columns]"
      ]
     },
     "execution_count": 4,
     "metadata": {},
     "output_type": "execute_result"
    }
   ],
   "source": [
    "# Leer datos de evaluación en un dataframe\n",
    "test_data = pd.read_csv(\"C:\\\\Users\\\\user\\\\Dropbox\\\\MachineLearning_II\\\\FinalProjectData\\\\EstrogenReceptorStatus_Test.csv\")\n",
    "\n",
    "test_data.head(10)"
   ]
  },
  {
   "cell_type": "code",
   "execution_count": 5,
   "id": "da2f4604",
   "metadata": {},
   "outputs": [
    {
     "data": {
      "text/plain": [
       "(55, 163)"
      ]
     },
     "execution_count": 5,
     "metadata": {},
     "output_type": "execute_result"
    }
   ],
   "source": [
    "# Verificar dimensionalidad de datos de evaluacion\n",
    "test_data.shape"
   ]
  },
  {
   "cell_type": "code",
   "execution_count": 6,
   "id": "658c0e0c",
   "metadata": {},
   "outputs": [
    {
     "data": {
      "text/html": [
       "<div>\n",
       "<style scoped>\n",
       "    .dataframe tbody tr th:only-of-type {\n",
       "        vertical-align: middle;\n",
       "    }\n",
       "\n",
       "    .dataframe tbody tr th {\n",
       "        vertical-align: top;\n",
       "    }\n",
       "\n",
       "    .dataframe thead th {\n",
       "        text-align: right;\n",
       "    }\n",
       "</style>\n",
       "<table border=\"1\" class=\"dataframe\">\n",
       "  <thead>\n",
       "    <tr style=\"text-align: right;\">\n",
       "      <th></th>\n",
       "      <th>case</th>\n",
       "      <th>1-hexadecanol</th>\n",
       "      <th>1-monostearin</th>\n",
       "      <th>1,2,4-benzenetriol</th>\n",
       "      <th>1,5-anhydroglucitol</th>\n",
       "      <th>2-aminoadipic,acid</th>\n",
       "      <th>2-hydroxybutanoic,acid</th>\n",
       "      <th>2-hydroxyglutaric,acid</th>\n",
       "      <th>2-hydroxyvaleric,acid</th>\n",
       "      <th>2-ketoadipic,acid</th>\n",
       "      <th>...</th>\n",
       "      <th>trehalose</th>\n",
       "      <th>tryptophan</th>\n",
       "      <th>tyrosine</th>\n",
       "      <th>uracil</th>\n",
       "      <th>urea</th>\n",
       "      <th>uric,acid</th>\n",
       "      <th>uridine</th>\n",
       "      <th>uridine-5'-monophosphate</th>\n",
       "      <th>valine</th>\n",
       "      <th>xanthine</th>\n",
       "    </tr>\n",
       "  </thead>\n",
       "  <tbody>\n",
       "    <tr>\n",
       "      <th>0</th>\n",
       "      <td>case_95</td>\n",
       "      <td>9.729131</td>\n",
       "      <td>9.372530</td>\n",
       "      <td>12.635429</td>\n",
       "      <td>14.711658</td>\n",
       "      <td>11.162607</td>\n",
       "      <td>14.145654</td>\n",
       "      <td>12.334462</td>\n",
       "      <td>14.358346</td>\n",
       "      <td>12.103635</td>\n",
       "      <td>...</td>\n",
       "      <td>12.442494</td>\n",
       "      <td>14.244449</td>\n",
       "      <td>16.625366</td>\n",
       "      <td>15.192479</td>\n",
       "      <td>18.991252</td>\n",
       "      <td>13.594835</td>\n",
       "      <td>10.820097</td>\n",
       "      <td>7.306034</td>\n",
       "      <td>17.595868</td>\n",
       "      <td>11.431424</td>\n",
       "    </tr>\n",
       "    <tr>\n",
       "      <th>1</th>\n",
       "      <td>case_88</td>\n",
       "      <td>10.961073</td>\n",
       "      <td>9.353313</td>\n",
       "      <td>12.692373</td>\n",
       "      <td>14.371407</td>\n",
       "      <td>11.128662</td>\n",
       "      <td>14.228230</td>\n",
       "      <td>12.177452</td>\n",
       "      <td>14.923601</td>\n",
       "      <td>12.378531</td>\n",
       "      <td>...</td>\n",
       "      <td>11.079405</td>\n",
       "      <td>14.744379</td>\n",
       "      <td>17.078661</td>\n",
       "      <td>14.517391</td>\n",
       "      <td>17.769687</td>\n",
       "      <td>12.833925</td>\n",
       "      <td>10.172577</td>\n",
       "      <td>8.658402</td>\n",
       "      <td>17.265167</td>\n",
       "      <td>8.184619</td>\n",
       "    </tr>\n",
       "    <tr>\n",
       "      <th>2</th>\n",
       "      <td>case_24</td>\n",
       "      <td>10.995057</td>\n",
       "      <td>9.384110</td>\n",
       "      <td>12.954097</td>\n",
       "      <td>13.323175</td>\n",
       "      <td>8.162313</td>\n",
       "      <td>14.392132</td>\n",
       "      <td>17.532062</td>\n",
       "      <td>16.000497</td>\n",
       "      <td>12.558596</td>\n",
       "      <td>...</td>\n",
       "      <td>9.846626</td>\n",
       "      <td>13.916428</td>\n",
       "      <td>15.891040</td>\n",
       "      <td>15.440454</td>\n",
       "      <td>18.206261</td>\n",
       "      <td>13.260406</td>\n",
       "      <td>9.085237</td>\n",
       "      <td>6.846626</td>\n",
       "      <td>17.365810</td>\n",
       "      <td>8.544668</td>\n",
       "    </tr>\n",
       "    <tr>\n",
       "      <th>3</th>\n",
       "      <td>case_25</td>\n",
       "      <td>11.801188</td>\n",
       "      <td>10.131278</td>\n",
       "      <td>13.615486</td>\n",
       "      <td>13.612898</td>\n",
       "      <td>7.864104</td>\n",
       "      <td>14.637300</td>\n",
       "      <td>14.116084</td>\n",
       "      <td>12.750284</td>\n",
       "      <td>11.812189</td>\n",
       "      <td>...</td>\n",
       "      <td>11.081869</td>\n",
       "      <td>11.704480</td>\n",
       "      <td>15.401228</td>\n",
       "      <td>15.387395</td>\n",
       "      <td>17.999114</td>\n",
       "      <td>12.303039</td>\n",
       "      <td>10.472097</td>\n",
       "      <td>8.118823</td>\n",
       "      <td>16.691485</td>\n",
       "      <td>10.108361</td>\n",
       "    </tr>\n",
       "    <tr>\n",
       "      <th>4</th>\n",
       "      <td>case_9</td>\n",
       "      <td>12.719130</td>\n",
       "      <td>11.215183</td>\n",
       "      <td>14.796994</td>\n",
       "      <td>13.753114</td>\n",
       "      <td>8.234385</td>\n",
       "      <td>14.321848</td>\n",
       "      <td>10.901360</td>\n",
       "      <td>11.932689</td>\n",
       "      <td>13.228521</td>\n",
       "      <td>...</td>\n",
       "      <td>11.214305</td>\n",
       "      <td>13.858266</td>\n",
       "      <td>17.036357</td>\n",
       "      <td>17.610594</td>\n",
       "      <td>18.571197</td>\n",
       "      <td>12.947573</td>\n",
       "      <td>10.814716</td>\n",
       "      <td>7.404310</td>\n",
       "      <td>17.651466</td>\n",
       "      <td>11.811814</td>\n",
       "    </tr>\n",
       "    <tr>\n",
       "      <th>5</th>\n",
       "      <td>case_63</td>\n",
       "      <td>10.169402</td>\n",
       "      <td>9.806564</td>\n",
       "      <td>11.112969</td>\n",
       "      <td>14.177820</td>\n",
       "      <td>10.106125</td>\n",
       "      <td>14.434799</td>\n",
       "      <td>13.731357</td>\n",
       "      <td>15.304836</td>\n",
       "      <td>12.566981</td>\n",
       "      <td>...</td>\n",
       "      <td>9.121721</td>\n",
       "      <td>14.398996</td>\n",
       "      <td>15.936088</td>\n",
       "      <td>15.316108</td>\n",
       "      <td>18.260090</td>\n",
       "      <td>12.803697</td>\n",
       "      <td>10.765578</td>\n",
       "      <td>7.548347</td>\n",
       "      <td>17.629015</td>\n",
       "      <td>9.975953</td>\n",
       "    </tr>\n",
       "    <tr>\n",
       "      <th>6</th>\n",
       "      <td>case_206</td>\n",
       "      <td>10.283016</td>\n",
       "      <td>9.865117</td>\n",
       "      <td>11.967934</td>\n",
       "      <td>14.410436</td>\n",
       "      <td>9.410975</td>\n",
       "      <td>13.269660</td>\n",
       "      <td>14.320480</td>\n",
       "      <td>11.879937</td>\n",
       "      <td>12.060910</td>\n",
       "      <td>...</td>\n",
       "      <td>12.010257</td>\n",
       "      <td>14.356078</td>\n",
       "      <td>16.358141</td>\n",
       "      <td>15.625300</td>\n",
       "      <td>18.296131</td>\n",
       "      <td>11.615541</td>\n",
       "      <td>11.714577</td>\n",
       "      <td>8.125475</td>\n",
       "      <td>17.159730</td>\n",
       "      <td>10.190021</td>\n",
       "    </tr>\n",
       "    <tr>\n",
       "      <th>7</th>\n",
       "      <td>case_181</td>\n",
       "      <td>9.953417</td>\n",
       "      <td>9.818129</td>\n",
       "      <td>12.133452</td>\n",
       "      <td>13.314337</td>\n",
       "      <td>9.641563</td>\n",
       "      <td>13.550503</td>\n",
       "      <td>15.282728</td>\n",
       "      <td>15.363759</td>\n",
       "      <td>12.861872</td>\n",
       "      <td>...</td>\n",
       "      <td>9.985664</td>\n",
       "      <td>14.459748</td>\n",
       "      <td>17.046546</td>\n",
       "      <td>15.661088</td>\n",
       "      <td>18.538379</td>\n",
       "      <td>12.423482</td>\n",
       "      <td>10.041953</td>\n",
       "      <td>8.090208</td>\n",
       "      <td>17.612571</td>\n",
       "      <td>10.590474</td>\n",
       "    </tr>\n",
       "    <tr>\n",
       "      <th>8</th>\n",
       "      <td>case_232</td>\n",
       "      <td>11.075417</td>\n",
       "      <td>10.215213</td>\n",
       "      <td>8.030789</td>\n",
       "      <td>14.464034</td>\n",
       "      <td>10.414632</td>\n",
       "      <td>15.278919</td>\n",
       "      <td>12.361562</td>\n",
       "      <td>12.847208</td>\n",
       "      <td>12.019170</td>\n",
       "      <td>...</td>\n",
       "      <td>9.500703</td>\n",
       "      <td>15.586649</td>\n",
       "      <td>16.244251</td>\n",
       "      <td>14.634435</td>\n",
       "      <td>19.239858</td>\n",
       "      <td>13.906353</td>\n",
       "      <td>11.537820</td>\n",
       "      <td>8.341875</td>\n",
       "      <td>17.729150</td>\n",
       "      <td>9.563379</td>\n",
       "    </tr>\n",
       "    <tr>\n",
       "      <th>9</th>\n",
       "      <td>case_156</td>\n",
       "      <td>10.506592</td>\n",
       "      <td>11.150282</td>\n",
       "      <td>13.737453</td>\n",
       "      <td>13.373887</td>\n",
       "      <td>10.833649</td>\n",
       "      <td>13.778953</td>\n",
       "      <td>12.393064</td>\n",
       "      <td>12.677529</td>\n",
       "      <td>12.722459</td>\n",
       "      <td>...</td>\n",
       "      <td>8.709558</td>\n",
       "      <td>14.350705</td>\n",
       "      <td>16.409056</td>\n",
       "      <td>13.910503</td>\n",
       "      <td>18.514137</td>\n",
       "      <td>11.872105</td>\n",
       "      <td>9.890639</td>\n",
       "      <td>7.434378</td>\n",
       "      <td>18.029672</td>\n",
       "      <td>8.817707</td>\n",
       "    </tr>\n",
       "  </tbody>\n",
       "</table>\n",
       "<p>10 rows × 163 columns</p>\n",
       "</div>"
      ],
      "text/plain": [
       "       case  1-hexadecanol  1-monostearin  1,2,4-benzenetriol  \\\n",
       "0   case_95       9.729131       9.372530           12.635429   \n",
       "1   case_88      10.961073       9.353313           12.692373   \n",
       "2   case_24      10.995057       9.384110           12.954097   \n",
       "3   case_25      11.801188      10.131278           13.615486   \n",
       "4    case_9      12.719130      11.215183           14.796994   \n",
       "5   case_63      10.169402       9.806564           11.112969   \n",
       "6  case_206      10.283016       9.865117           11.967934   \n",
       "7  case_181       9.953417       9.818129           12.133452   \n",
       "8  case_232      11.075417      10.215213            8.030789   \n",
       "9  case_156      10.506592      11.150282           13.737453   \n",
       "\n",
       "   1,5-anhydroglucitol  2-aminoadipic,acid  2-hydroxybutanoic,acid  \\\n",
       "0            14.711658           11.162607               14.145654   \n",
       "1            14.371407           11.128662               14.228230   \n",
       "2            13.323175            8.162313               14.392132   \n",
       "3            13.612898            7.864104               14.637300   \n",
       "4            13.753114            8.234385               14.321848   \n",
       "5            14.177820           10.106125               14.434799   \n",
       "6            14.410436            9.410975               13.269660   \n",
       "7            13.314337            9.641563               13.550503   \n",
       "8            14.464034           10.414632               15.278919   \n",
       "9            13.373887           10.833649               13.778953   \n",
       "\n",
       "   2-hydroxyglutaric,acid  2-hydroxyvaleric,acid  2-ketoadipic,acid  ...  \\\n",
       "0               12.334462              14.358346          12.103635  ...   \n",
       "1               12.177452              14.923601          12.378531  ...   \n",
       "2               17.532062              16.000497          12.558596  ...   \n",
       "3               14.116084              12.750284          11.812189  ...   \n",
       "4               10.901360              11.932689          13.228521  ...   \n",
       "5               13.731357              15.304836          12.566981  ...   \n",
       "6               14.320480              11.879937          12.060910  ...   \n",
       "7               15.282728              15.363759          12.861872  ...   \n",
       "8               12.361562              12.847208          12.019170  ...   \n",
       "9               12.393064              12.677529          12.722459  ...   \n",
       "\n",
       "   trehalose  tryptophan   tyrosine     uracil       urea  uric,acid  \\\n",
       "0  12.442494   14.244449  16.625366  15.192479  18.991252  13.594835   \n",
       "1  11.079405   14.744379  17.078661  14.517391  17.769687  12.833925   \n",
       "2   9.846626   13.916428  15.891040  15.440454  18.206261  13.260406   \n",
       "3  11.081869   11.704480  15.401228  15.387395  17.999114  12.303039   \n",
       "4  11.214305   13.858266  17.036357  17.610594  18.571197  12.947573   \n",
       "5   9.121721   14.398996  15.936088  15.316108  18.260090  12.803697   \n",
       "6  12.010257   14.356078  16.358141  15.625300  18.296131  11.615541   \n",
       "7   9.985664   14.459748  17.046546  15.661088  18.538379  12.423482   \n",
       "8   9.500703   15.586649  16.244251  14.634435  19.239858  13.906353   \n",
       "9   8.709558   14.350705  16.409056  13.910503  18.514137  11.872105   \n",
       "\n",
       "     uridine  uridine-5'-monophosphate     valine   xanthine  \n",
       "0  10.820097                  7.306034  17.595868  11.431424  \n",
       "1  10.172577                  8.658402  17.265167   8.184619  \n",
       "2   9.085237                  6.846626  17.365810   8.544668  \n",
       "3  10.472097                  8.118823  16.691485  10.108361  \n",
       "4  10.814716                  7.404310  17.651466  11.811814  \n",
       "5  10.765578                  7.548347  17.629015   9.975953  \n",
       "6  11.714577                  8.125475  17.159730  10.190021  \n",
       "7  10.041953                  8.090208  17.612571  10.590474  \n",
       "8  11.537820                  8.341875  17.729150   9.563379  \n",
       "9   9.890639                  7.434378  18.029672   8.817707  \n",
       "\n",
       "[10 rows x 163 columns]"
      ]
     },
     "execution_count": 6,
     "metadata": {},
     "output_type": "execute_result"
    }
   ],
   "source": [
    "# Crear dataframe de todos los datos (concatenar filas)\n",
    "data = pd.concat([train_data, test_data], axis=0)\n",
    "# Agregar header de los casos\n",
    "data = data.rename(columns={\"Unnamed: 0\": \"case\"})\n",
    "\n",
    "data.head(10)"
   ]
  },
  {
   "cell_type": "code",
   "execution_count": 7,
   "id": "f9169de3",
   "metadata": {},
   "outputs": [
    {
     "data": {
      "text/plain": [
       "(271, 163)"
      ]
     },
     "execution_count": 7,
     "metadata": {},
     "output_type": "execute_result"
    }
   ],
   "source": [
    "# Verificar dimensionalidad de los datos\n",
    "data.shape"
   ]
  },
  {
   "cell_type": "code",
   "execution_count": 8,
   "id": "c5671b88",
   "metadata": {},
   "outputs": [],
   "source": [
    "# Agregar etiquetas de clase al dataset completo\n",
    "\n",
    "# Dataframes de las etiquetas\n",
    "train_labels = pd.read_csv(\"C:\\\\Users\\\\user\\\\Dropbox\\\\MachineLearning_II\\\\FinalProjectData\\\\EstrogenReceptorStatus_Train_labels.txt\", header=None)\n",
    "test_labels = pd.read_csv(\"C:\\\\Users\\\\user\\\\Dropbox\\\\MachineLearning_II\\\\FinalProjectData\\\\EstrogenReceptorStatus_Test_labels.txt\", header=None)"
   ]
  },
  {
   "cell_type": "code",
   "execution_count": 9,
   "id": "05fbb9f5",
   "metadata": {},
   "outputs": [],
   "source": [
    "# Crear dataframe de todas las etiquetas (concatenar filas)\n",
    "data_labels = pd.concat([train_labels, test_labels], axis=0)"
   ]
  },
  {
   "cell_type": "code",
   "execution_count": 10,
   "id": "267ee94a",
   "metadata": {},
   "outputs": [
    {
     "data": {
      "text/plain": [
       "(271, 1)"
      ]
     },
     "execution_count": 10,
     "metadata": {},
     "output_type": "execute_result"
    }
   ],
   "source": [
    "# Verificar dimensionalidad de las etiquetas\n",
    "data_labels.shape"
   ]
  },
  {
   "cell_type": "code",
   "execution_count": 11,
   "id": "1697da32",
   "metadata": {},
   "outputs": [],
   "source": [
    "# Agregar etiquetas al dataframe de todos los datos (concatenar columnas)\n",
    "data = pd.concat([data, data_labels], axis=1)"
   ]
  },
  {
   "cell_type": "code",
   "execution_count": 12,
   "id": "4404cc4d",
   "metadata": {},
   "outputs": [
    {
     "data": {
      "text/plain": [
       "(271, 164)"
      ]
     },
     "execution_count": 12,
     "metadata": {},
     "output_type": "execute_result"
    }
   ],
   "source": [
    "# Verificar dimensionalidad de los datos con etiquetas\n",
    "data.shape"
   ]
  },
  {
   "cell_type": "code",
   "execution_count": 13,
   "id": "af6516f4",
   "metadata": {
    "scrolled": true
   },
   "outputs": [],
   "source": [
    "# Agregar header 'class' a las etiquetas en 'data'\n",
    "data = data.rename(columns={0: \"clases\"})"
   ]
  },
  {
   "cell_type": "code",
   "execution_count": 14,
   "id": "c0abff86",
   "metadata": {},
   "outputs": [
    {
     "data": {
      "text/plain": [
       "Index(['case', '1-hexadecanol', '1-monostearin', '1,2,4-benzenetriol',\n",
       "       '1,5-anhydroglucitol', '2-aminoadipic,acid', '2-hydroxybutanoic,acid',\n",
       "       '2-hydroxyglutaric,acid', '2-hydroxyvaleric,acid', '2-ketoadipic,acid',\n",
       "       ...\n",
       "       'tryptophan', 'tyrosine', 'uracil', 'urea', 'uric,acid', 'uridine',\n",
       "       'uridine-5'-monophosphate', 'valine', 'xanthine', 'clases'],\n",
       "      dtype='object', length=164)"
      ]
     },
     "execution_count": 14,
     "metadata": {},
     "output_type": "execute_result"
    }
   ],
   "source": [
    "# Nombres de las columnas de data\n",
    "data.columns"
   ]
  },
  {
   "cell_type": "code",
   "execution_count": 15,
   "id": "773d3737",
   "metadata": {},
   "outputs": [
    {
     "data": {
      "text/plain": [
       "<bound method NDFrame.head of clases\n",
       "0     67\n",
       "1    204\n",
       "Name: case, dtype: int64>"
      ]
     },
     "execution_count": 15,
     "metadata": {},
     "output_type": "execute_result"
    }
   ],
   "source": [
    "# Agrupar y contar ocurrencias de cada categoría de clase (0 y 1)\n",
    "grouped_data = data.groupby('clases')['case'].count()\n",
    "grouped_data.head"
   ]
  },
  {
   "cell_type": "code",
   "execution_count": 16,
   "id": "422c0617",
   "metadata": {},
   "outputs": [
    {
     "data": {
      "image/png": "[encoded data removed]",
      "text/plain": [
       "<Figure size 640x480 with 1 Axes>"
      ]
     },
     "metadata": {},
     "output_type": "display_data"
    }
   ],
   "source": [
    "# Gráfica de barras de número de casos por categoría de clase (0 y 1)\n",
    "\n",
    "# Plot\n",
    "plt.bar(grouped_data.index, grouped_data.values)\n",
    "plt.xlabel('Categorías de clase')\n",
    "plt.ylabel('Casos')\n",
    "plt.title('Número de casos por Categorías de clase')\n",
    "\n",
    "# Personalizar las etiquetas del eje x\n",
    "labels = ['Estrógeno Negativo', 'Estrógeno Positivo']\n",
    "xticks = [0, 1]  # Ubicaciones correspondientes a las categorías\n",
    "plt.xticks(xticks, labels)\n",
    "\n",
    "plt.show()"
   ]
  },
  {
   "cell_type": "markdown",
   "id": "beaa088c",
   "metadata": {},
   "source": [
    "Encontramos que existe un desbalance de clases por lo que podemos recurrir a hacer un \"undersampling\" o un \"oversampling\" de los datos para obtener una muestra balanceada o usar algúnos hiperparámetros como class_weight 'balanced' dentro del clasificador."
   ]
  },
  {
   "cell_type": "code",
   "execution_count": 17,
   "id": "9fb8d75e",
   "metadata": {},
   "outputs": [
    {
     "name": "stdout",
     "output_type": "stream",
     "text": [
      "                                Max        Min\n",
      "1-hexadecanol             12.775977   7.781118\n",
      "1-monostearin             14.368288   8.499212\n",
      "1,2,4-benzenetriol        15.014075    6.81823\n",
      "1,5-anhydroglucitol       15.474982   9.452769\n",
      "2-aminoadipic,acid        14.312922   6.779435\n",
      "...                             ...        ...\n",
      "uric,acid                 15.556215   6.349034\n",
      "uridine                    12.81781   5.918799\n",
      "uridine-5'-monophosphate  12.325552   6.463437\n",
      "valine                     19.66942  12.535361\n",
      "xanthine                  12.919565   6.262644\n",
      "\n",
      "[162 rows x 2 columns]\n"
     ]
    }
   ],
   "source": [
    "# Calcular el rango de valores máximos y mínimos en cada columna\n",
    "rangos_max = data.max()\n",
    "rangos_min = data.min()\n",
    "\n",
    "# Crear un DataFrame con los resultados\n",
    "rangos_df = pd.DataFrame({'Max': rangos_max, 'Min': rangos_min})\n",
    "rangos_df = rangos_df.iloc[1:-1]\n",
    "\n",
    "print(rangos_df)"
   ]
  },
  {
   "cell_type": "code",
   "execution_count": 18,
   "id": "ec840bb2",
   "metadata": {},
   "outputs": [
    {
     "data": {
      "text/plain": [
       "(162, 2)"
      ]
     },
     "execution_count": 18,
     "metadata": {},
     "output_type": "execute_result"
    }
   ],
   "source": [
    "rangos_df.shape"
   ]
  },
  {
   "cell_type": "code",
   "execution_count": 19,
   "id": "c3877fb3",
   "metadata": {},
   "outputs": [
    {
     "data": {
      "image/png": "[encoded data removed]",
      "text/plain": [
       "<Figure size 640x480 with 1 Axes>"
      ]
     },
     "metadata": {},
     "output_type": "display_data"
    }
   ],
   "source": [
    "# Grafica de valores máximos y mínimos de cada metabolito\n",
    "\n",
    "# PLot\n",
    "plt.plot(rangos_df.index, rangos_df['Max'], label='Valores Máximos')\n",
    "plt.plot(rangos_df.index, rangos_df['Min'], label='Valores Mínimos')\n",
    "plt.xlabel('Metabolitos')\n",
    "plt.ylabel('Valores')\n",
    "plt.title('Valores Máximos y Mínimos de cada Metabolito')\n",
    "plt.legend()\n",
    "plt.show()"
   ]
  },
  {
   "cell_type": "markdown",
   "id": "0ac3d792",
   "metadata": {},
   "source": [
    "El rango de valores para todos los metabolitos no es muy grande (los valores son relativamente similares), por lo que podría no sernecesario un escalamiento de los datos."
   ]
  },
  {
   "cell_type": "markdown",
   "id": "47a4a783",
   "metadata": {},
   "source": [
    "# Clasificador SVM con escalamiento de datos"
   ]
  },
  {
   "cell_type": "code",
   "execution_count": 20,
   "id": "88d50eef",
   "metadata": {},
   "outputs": [],
   "source": [
    "# Preparación de datos\n",
    "\n",
    "# X = sólo datos de características de ejemplos\n",
    "# Eliminamos la primera columna de 'case' para quedarnos sólo con los valores de los metabolitos\n",
    "X_train = train_data.iloc[:, 1:]\n",
    "X_test = test_data.iloc[:, 1:]\n",
    "\n",
    "# Y = categorías de clase para cada ejemplo\n",
    "Y_train = train_labels\n",
    "Y_test = test_labels"
   ]
  },
  {
   "cell_type": "code",
   "execution_count": 21,
   "id": "f00c90fc",
   "metadata": {},
   "outputs": [],
   "source": [
    "# Escalamiento de datos\n",
    "\n",
    "# Crear un escalador y ajustarlo a los datos de entrenamiento\n",
    "scaler = StandardScaler()\n",
    "scaler.fit(X_train)\n",
    "\n",
    "# Aplicar el escalado a los datos de entrenamiento y prueba\n",
    "X_train_scaled = scaler.transform(X_train)\n",
    "X_test_scaled = scaler.transform(X_test)"
   ]
  },
  {
   "cell_type": "code",
   "execution_count": 22,
   "id": "a4ed0bf7",
   "metadata": {},
   "outputs": [
    {
     "name": "stdout",
     "output_type": "stream",
     "text": [
      "Fitting 15 folds for each of 10 candidates, totalling 150 fits\n"
     ]
    },
    {
     "name": "stderr",
     "output_type": "stream",
     "text": [
      "C:\\Users\\user\\anaconda3\\Lib\\site-packages\\sklearn\\utils\\validation.py:1143: DataConversionWarning: A column-vector y was passed when a 1d array was expected. Please change the shape of y to (n_samples, ), for example using ravel().\n",
      "  y = column_or_1d(y, warn=True)\n"
     ]
    }
   ],
   "source": [
    "# Entrenamiento del clasificador\n",
    "\n",
    "# Inicializar una semilla\n",
    "seed = 42\n",
    "np.random.seed(seed)\n",
    "\n",
    "# Creación del clasificador SVM\n",
    "svm_model = SVC()\n",
    "\n",
    "# Hiperparámetros que se desean ajustar\n",
    "search_parameters = {'C': expon(scale=100), 'gamma': expon(scale=.1),\n",
    "  'kernel': ['rbf'], 'class_weight':['balanced', None]}\n",
    "\n",
    "# Búsqueda de hiperparámetros con RandomizedSearchCV  \n",
    "clf = RandomizedSearchCV(svm_model, search_parameters, random_state=0, cv=15, \n",
    "                                    scoring='f1_weighted', verbose=2, n_jobs=-1)\n",
    "\n",
    "# Ajuste del modelo a los datos de entrenamiento escalados\n",
    "classifier = clf.fit(X_train_scaled, Y_train)"
   ]
  },
  {
   "cell_type": "code",
   "execution_count": 23,
   "id": "a5cd5414",
   "metadata": {},
   "outputs": [
    {
     "name": "stdout",
     "output_type": "stream",
     "text": [
      "Mejor F-1 weighted score:\n",
      "0.8653953268263826\n",
      "Mejores hiperparámetros:\n",
      "{'C': 49.88720138545616, 'class_weight': None, 'gamma': 0.007368535491284788, 'kernel': 'rbf'}\n"
     ]
    }
   ],
   "source": [
    "# Resultados de entrenamiento \n",
    "print(\"Mejor F-1 weighted score:\")\n",
    "print(classifier.best_score_)\n",
    "\n",
    "# Resultados de cross-validation (clasificador)\n",
    "print(\"Mejores hiperparámetros:\")\n",
    "print(classifier.best_params_)"
   ]
  },
  {
   "cell_type": "code",
   "execution_count": 24,
   "id": "7349be20",
   "metadata": {},
   "outputs": [
    {
     "name": "stdout",
     "output_type": "stream",
     "text": [
      "Resultados de la evaluación:\n",
      "F-1 weighted: 0.851313897993215\n",
      "Precision: 0.86\n",
      "Recall: 0.924731182795699\n",
      "AUROC: 0.7083333333333333\n"
     ]
    }
   ],
   "source": [
    "# Evaluación del clasificador\n",
    "\n",
    "# Predicciones en los datos de prueba usando el clasificador entrenado\n",
    "Y_pred = classifier.predict(X_test_scaled)\n",
    "\n",
    "# Resultados de la evaluación\n",
    "print(\"Resultados de la evaluación:\")\n",
    "print(\"F-1 weighted: {}\".format(f1_score(Y_test, Y_pred, average='weighted')))\n",
    "print(\"Precision: {}\".format(precision_score(Y_test, Y_pred)))\n",
    "print(\"Recall: {}\".format(f1_score(Y_test, Y_pred)))\n",
    "print(\"AUROC: {}\".format(roc_auc_score(Y_test, Y_pred, average='weighted')))"
   ]
  },
  {
   "cell_type": "code",
   "execution_count": 25,
   "id": "6902ed6f",
   "metadata": {},
   "outputs": [
    {
     "name": "stdout",
     "output_type": "stream",
     "text": [
      "              precision    recall  f1-score   support\n",
      "\n",
      "           0       1.00      0.42      0.59        12\n",
      "           1       0.86      1.00      0.92        43\n",
      "\n",
      "    accuracy                           0.87        55\n",
      "   macro avg       0.93      0.71      0.76        55\n",
      "weighted avg       0.89      0.87      0.85        55\n",
      "\n"
     ]
    }
   ],
   "source": [
    "# Reporte de la clasificación de los datos de evaluación\n",
    "print(classification_report(Y_test,Y_pred))"
   ]
  },
  {
   "cell_type": "code",
   "execution_count": 26,
   "id": "16c6d114",
   "metadata": {},
   "outputs": [
    {
     "name": "stdout",
     "output_type": "stream",
     "text": [
      "Matriz de confusión:\n",
      "[[ 5  7]\n",
      " [ 0 43]]\n"
     ]
    }
   ],
   "source": [
    "# Matriz de confusión\n",
    "confusion_matrix = confusion_matrix(Y_test,Y_pred)\n",
    "print(\"Matriz de confusión:\")\n",
    "print(confusion_matrix)"
   ]
  },
  {
   "cell_type": "code",
   "execution_count": 27,
   "id": "f101fb5f",
   "metadata": {},
   "outputs": [
    {
     "data": {
      "text/plain": [
       "Text(0.5, 0, 'False Positive Rate')"
      ]
     },
     "execution_count": 27,
     "metadata": {},
     "output_type": "execute_result"
    },
    {
     "data": {
      "image/png": "[encoded data removed]",
      "text/plain": [
       "<Figure size 1000x1000 with 1 Axes>"
      ]
     },
     "metadata": {},
     "output_type": "display_data"
    }
   ],
   "source": [
    "# Curva ROC\n",
    "\n",
    "# Tasas de falsos positivos, verdaderos positivos y umbrales\n",
    "false_positive_rate, true_positive_rate, thresholds = roc_curve(Y_test, Y_pred)\n",
    "# Calcular el área bajo la curva ROC (AUC-ROC) ponderada\n",
    "auc_roc = roc_auc_score(Y_test, Y_pred, average='weighted')\n",
    "\n",
    "# Plot\n",
    "plt.figure(figsize=(10,10))\n",
    "plt.title('Receiver Operating Characteristic')\n",
    "plt.plot(false_positive_rate,true_positive_rate, color='red',label = 'AUC = %0.2f' % auc_roc)\n",
    "plt.legend(loc = 'lower right')\n",
    "plt.plot([0, 1], [0, 1],linestyle='--')\n",
    "plt.axis('tight')\n",
    "plt.ylabel('True Positive Rate')\n",
    "plt.xlabel('False Positive Rate')"
   ]
  },
  {
   "cell_type": "markdown",
   "id": "7be7438d",
   "metadata": {},
   "source": [
    "# Clasificador SVM sin escalamiento de datos"
   ]
  },
  {
   "cell_type": "code",
   "execution_count": 28,
   "id": "b3b2a0f5",
   "metadata": {},
   "outputs": [
    {
     "name": "stdout",
     "output_type": "stream",
     "text": [
      "Fitting 15 folds for each of 10 candidates, totalling 150 fits\n"
     ]
    },
    {
     "name": "stderr",
     "output_type": "stream",
     "text": [
      "C:\\Users\\user\\anaconda3\\Lib\\site-packages\\sklearn\\utils\\validation.py:1143: DataConversionWarning: A column-vector y was passed when a 1d array was expected. Please change the shape of y to (n_samples, ), for example using ravel().\n",
      "  y = column_or_1d(y, warn=True)\n"
     ]
    }
   ],
   "source": [
    "# Entrenamiento del clasificador\n",
    "\n",
    "# Inicializar una semilla\n",
    "seed = 42\n",
    "np.random.seed(seed)\n",
    "\n",
    "# Creación del clasificador SVM\n",
    "svm_model1 = SVC()\n",
    "\n",
    "# Hiperparámetros que se desean ajustar\n",
    "search_parameters = {'C': expon(scale=100), 'gamma': expon(scale=.1),\n",
    "  'kernel': ['rbf'], 'class_weight':['balanced', None]}\n",
    "\n",
    "# Búsqueda de hiperparámetros con RandomizedSearchCV  \n",
    "clf1 = RandomizedSearchCV(svm_model1, search_parameters, random_state=0, cv=15, \n",
    "                                    scoring='f1_weighted', verbose=2, n_jobs=-1)\n",
    "\n",
    "# Ajuste del modelo a los datos de entrenamiento sin escalar\n",
    "classifier1 = clf1.fit(X_train, Y_train)"
   ]
  },
  {
   "cell_type": "code",
   "execution_count": 29,
   "id": "82ac0cb9",
   "metadata": {},
   "outputs": [
    {
     "name": "stdout",
     "output_type": "stream",
     "text": [
      "Mejor F-1 weighted score:\n",
      "0.8232611210880579\n",
      "Mejores hiperparámetros:\n",
      "{'C': 49.88720138545616, 'class_weight': None, 'gamma': 0.007368535491284788, 'kernel': 'rbf'}\n"
     ]
    }
   ],
   "source": [
    "# Resultados de entrenamiento \n",
    "print(\"Mejor F-1 weighted score:\")\n",
    "print(classifier1.best_score_)\n",
    "\n",
    "# Resultados de cross-validation (clasificador)\n",
    "print(\"Mejores hiperparámetros:\")\n",
    "print(classifier1.best_params_)"
   ]
  },
  {
   "cell_type": "code",
   "execution_count": 30,
   "id": "ad274ac9",
   "metadata": {},
   "outputs": [
    {
     "name": "stdout",
     "output_type": "stream",
     "text": [
      "Resultados de la evaluación:\n",
      "F-1 weighted: 0.8088321545627049\n",
      "Precision: 0.84\n",
      "Recall: 0.9032258064516129\n",
      "AUROC: 0.6550387596899225\n"
     ]
    }
   ],
   "source": [
    "# Evaluación del clasificador\n",
    "\n",
    "# Predicciones en los datos de prueba usando el clasificador entrenado\n",
    "Y_pred1 = classifier1.predict(X_test)\n",
    "\n",
    "# Resultados de la evaluación\n",
    "print(\"Resultados de la evaluación:\")\n",
    "print(\"F-1 weighted: {}\".format(f1_score(Y_test, Y_pred1, average='weighted')))\n",
    "print(\"Precision: {}\".format(precision_score(Y_test, Y_pred1)))\n",
    "print(\"Recall: {}\".format(f1_score(Y_test, Y_pred1)))\n",
    "print(\"AUROC: {}\".format(roc_auc_score(Y_test, Y_pred1, average='weighted')))"
   ]
  },
  {
   "cell_type": "code",
   "execution_count": 31,
   "id": "f035930a",
   "metadata": {},
   "outputs": [
    {
     "name": "stdout",
     "output_type": "stream",
     "text": [
      "              precision    recall  f1-score   support\n",
      "\n",
      "           0       0.80      0.33      0.47        12\n",
      "           1       0.84      0.98      0.90        43\n",
      "\n",
      "    accuracy                           0.84        55\n",
      "   macro avg       0.82      0.66      0.69        55\n",
      "weighted avg       0.83      0.84      0.81        55\n",
      "\n"
     ]
    }
   ],
   "source": [
    "# Reporte de la clasificación de los datos de evaluación\n",
    "print(classification_report(Y_test,Y_pred1))"
   ]
  },
  {
   "cell_type": "code",
   "execution_count": 32,
   "id": "586cc9b4",
   "metadata": {},
   "outputs": [
    {
     "name": "stdout",
     "output_type": "stream",
     "text": [
      "Matriz de confusión:\n",
      "[[ 4  8]\n",
      " [ 1 42]]\n"
     ]
    }
   ],
   "source": [
    "# Matriz de confusión\n",
    "\n",
    "from sklearn.metrics import confusion_matrix\n",
    "\n",
    "confusion_matrix1 = confusion_matrix(Y_test,Y_pred1)\n",
    "print(\"Matriz de confusión:\")\n",
    "print(confusion_matrix1)"
   ]
  },
  {
   "cell_type": "code",
   "execution_count": 33,
   "id": "876fd315",
   "metadata": {},
   "outputs": [
    {
     "data": {
      "text/plain": [
       "Text(0.5, 0, 'False Positive Rate')"
      ]
     },
     "execution_count": 33,
     "metadata": {},
     "output_type": "execute_result"
    },
    {
     "data": {
      "image/png": "[encoded data removed]",
      "text/plain": [
       "<Figure size 1000x1000 with 1 Axes>"
      ]
     },
     "metadata": {},
     "output_type": "display_data"
    }
   ],
   "source": [
    "# Curva ROC\n",
    "\n",
    "# Tasas de falsos positivos, verdaderos positivos y umbrales\n",
    "false_positive_rate, true_positive_rate, thresholds = roc_curve(Y_test, Y_pred1)\n",
    "# Calcular el área bajo la curva ROC (AUC-ROC) ponderada\n",
    "auc_roc1 = roc_auc_score(Y_test, Y_pred1, average='weighted')\n",
    "\n",
    "# Plot\n",
    "plt.figure(figsize=(10,10))\n",
    "plt.title('Receiver Operating Characteristic')\n",
    "plt.plot(false_positive_rate,true_positive_rate, color='red',label = 'AUC = %0.2f' % auc_roc1)\n",
    "plt.legend(loc = 'lower right')\n",
    "plt.plot([0, 1], [0, 1],linestyle='--')\n",
    "plt.axis('tight')\n",
    "plt.ylabel('True Positive Rate')\n",
    "plt.xlabel('False Positive Rate')"
   ]
  },
  {
   "cell_type": "markdown",
   "id": "5ab17036",
   "metadata": {},
   "source": [
    "# Undersampling "
   ]
  },
  {
   "cell_type": "code",
   "execution_count": 34,
   "id": "86d6b175",
   "metadata": {},
   "outputs": [],
   "source": [
    "# Submuestreo de los datos de entrenamiento escalados\n",
    "rus = RandomUnderSampler(random_state=0)\n",
    "\n",
    "X_train_resampled, Y_train_resampled = rus.fit_resample(X_train_scaled, Y_train)"
   ]
  },
  {
   "cell_type": "code",
   "execution_count": 35,
   "id": "f147ac67",
   "metadata": {},
   "outputs": [
    {
     "name": "stdout",
     "output_type": "stream",
     "text": [
      "Fitting 15 folds for each of 10 candidates, totalling 150 fits\n"
     ]
    },
    {
     "name": "stderr",
     "output_type": "stream",
     "text": [
      "C:\\Users\\user\\anaconda3\\Lib\\site-packages\\sklearn\\utils\\validation.py:1143: DataConversionWarning: A column-vector y was passed when a 1d array was expected. Please change the shape of y to (n_samples, ), for example using ravel().\n",
      "  y = column_or_1d(y, warn=True)\n"
     ]
    }
   ],
   "source": [
    "## Entrenamiento del clasificador\n",
    "\n",
    "# Inicializar una semilla\n",
    "seed = 42\n",
    "np.random.seed(seed)\n",
    "\n",
    "# Creación del clasificador SVM\n",
    "svm_model_us = SVC()\n",
    "\n",
    "# Hiperparámetros que se desean ajustar\n",
    "search_parameters = {'C': expon(scale=100), 'gamma': expon(scale=.1),\n",
    "  'kernel': ['rbf'], 'class_weight':[None]}\n",
    "\n",
    "# Búsqueda de hiperparámetros con RandomizedSearchCV  \n",
    "clf_us = RandomizedSearchCV(svm_model_us, search_parameters, random_state=0, cv=15, \n",
    "                                    scoring='f1_weighted', verbose=2, n_jobs=-1)\n",
    "\n",
    "# Ajuste del modelo a los datos de entrenamiento escalados\n",
    "classifier_us = clf_us.fit(X_train_resampled, Y_train_resampled)"
   ]
  },
  {
   "cell_type": "code",
   "execution_count": 36,
   "id": "0a6ab3a8",
   "metadata": {},
   "outputs": [
    {
     "name": "stdout",
     "output_type": "stream",
     "text": [
      "Mejor F-1 weighted score:\n",
      "0.774021164021164\n",
      "Mejores hiperparámetros:\n",
      "{'C': 7.368535491284788, 'class_weight': None, 'gamma': 0.009116102911900048, 'kernel': 'rbf'}\n"
     ]
    }
   ],
   "source": [
    "# Resultados de entrenamiento \n",
    "print(\"Mejor F-1 weighted score:\")\n",
    "print(classifier_us.best_score_)\n",
    "\n",
    "# Resultados de cross-validation (clasificador)\n",
    "print(\"Mejores hiperparámetros:\")\n",
    "print(classifier_us.best_params_)"
   ]
  },
  {
   "cell_type": "code",
   "execution_count": 37,
   "id": "8ef18407",
   "metadata": {},
   "outputs": [
    {
     "name": "stdout",
     "output_type": "stream",
     "text": [
      "Resultados de la evaluación:\n",
      "F-1 weighted: 0.8267342413683878\n",
      "Precision: 0.9230769230769231\n",
      "Recall: 0.878048780487805\n",
      "AUROC: 0.7936046511627908\n"
     ]
    }
   ],
   "source": [
    "# Evaluación del clasificador\n",
    "\n",
    "# Predicciones en los datos de prueba usando el clasificador entrenado\n",
    "Y_pred_us = classifier_us.predict(X_test_scaled)\n",
    "\n",
    "# Resultados de la evaluación\n",
    "print(\"Resultados de la evaluación:\")\n",
    "print(\"F-1 weighted: {}\".format(f1_score(Y_test, Y_pred_us, average='weighted')))\n",
    "print(\"Precision: {}\".format(precision_score(Y_test, Y_pred_us)))\n",
    "print(\"Recall: {}\".format(f1_score(Y_test, Y_pred_us)))\n",
    "print(\"AUROC: {}\".format(roc_auc_score(Y_test, Y_pred_us, average='weighted')))"
   ]
  },
  {
   "cell_type": "code",
   "execution_count": 38,
   "id": "e5ac0298",
   "metadata": {},
   "outputs": [
    {
     "name": "stdout",
     "output_type": "stream",
     "text": [
      "              precision    recall  f1-score   support\n",
      "\n",
      "           0       0.56      0.75      0.64        12\n",
      "           1       0.92      0.84      0.88        43\n",
      "\n",
      "    accuracy                           0.82        55\n",
      "   macro avg       0.74      0.79      0.76        55\n",
      "weighted avg       0.84      0.82      0.83        55\n",
      "\n"
     ]
    }
   ],
   "source": [
    "# Reporte de la clasificación de los datos de evaluación\n",
    "print(classification_report(Y_test,Y_pred_us))"
   ]
  },
  {
   "cell_type": "code",
   "execution_count": 39,
   "id": "995494c7",
   "metadata": {},
   "outputs": [
    {
     "name": "stdout",
     "output_type": "stream",
     "text": [
      "Matriz de confusión:\n",
      "[[ 9  3]\n",
      " [ 7 36]]\n"
     ]
    }
   ],
   "source": [
    "# Matriz de confusión\n",
    "\n",
    "from sklearn.metrics import confusion_matrix\n",
    "\n",
    "confusion_matrix_us = confusion_matrix(Y_test,Y_pred_us)\n",
    "print(\"Matriz de confusión:\")\n",
    "print(confusion_matrix_us)"
   ]
  },
  {
   "cell_type": "code",
   "execution_count": 40,
   "id": "ff8379e1",
   "metadata": {},
   "outputs": [
    {
     "data": {
      "text/plain": [
       "Text(0.5, 0, 'False Positive Rate')"
      ]
     },
     "execution_count": 40,
     "metadata": {},
     "output_type": "execute_result"
    },
    {
     "data": {
      "image/png": "[encoded data removed]",
      "text/plain": [
       "<Figure size 1000x1000 with 1 Axes>"
      ]
     },
     "metadata": {},
     "output_type": "display_data"
    }
   ],
   "source": [
    "# Curva ROC\n",
    "\n",
    "# Tasas de falsos positivos, verdaderos positivos y umbrales\n",
    "false_positive_rate, true_positive_rate, thresholds = roc_curve(Y_test, Y_pred_us)\n",
    "# Calcular el área bajo la curva ROC (AUC-ROC) ponderada\n",
    "auc_roc_us = roc_auc_score(Y_test, Y_pred_us, average='weighted')\n",
    "\n",
    "# Plot\n",
    "plt.figure(figsize=(10,10))\n",
    "plt.title('Receiver Operating Characteristic')\n",
    "plt.plot(false_positive_rate,true_positive_rate, color='red',label = 'AUC = %0.2f' % auc_roc_us)\n",
    "plt.legend(loc = 'lower right')\n",
    "plt.plot([0, 1], [0, 1],linestyle='--')\n",
    "plt.axis('tight')\n",
    "plt.ylabel('True Positive Rate')\n",
    "plt.xlabel('False Positive Rate')"
   ]
  }
 ],
 "metadata": {
  "kernelspec": {
   "display_name": "Python 3 (ipykernel)",
   "language": "python",
   "name": "python3"
  },
  "language_info": {
   "codemirror_mode": {
    "name": "ipython",
    "version": 3
   },
   "file_extension": ".py",
   "mimetype": "text/x-python",
   "name": "python",
   "nbconvert_exporter": "python",
   "pygments_lexer": "ipython3",
   "version": "3.11.3"
  }
 },
 "nbformat": 4,
 "nbformat_minor": 5
}
